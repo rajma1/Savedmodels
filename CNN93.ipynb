{
  "nbformat": 4,
  "nbformat_minor": 0,
  "metadata": {
    "colab": {
      "provenance": [],
      "collapsed_sections": [],
      "mount_file_id": "1WIE9sCNxnfagYqe73tEYnsFBc2xxGDe2",
      "authorship_tag": "ABX9TyPUbMqx+jGh7rWGRplJclgl",
      "include_colab_link": true
    },
    "kernelspec": {
      "name": "python3",
      "display_name": "Python 3"
    },
    "language_info": {
      "name": "python"
    }
  },
  "cells": [
    {
      "cell_type": "markdown",
      "metadata": {
        "id": "view-in-github",
        "colab_type": "text"
      },
      "source": [
        "<a href=\"https://colab.research.google.com/github/rajma1/Savedmodels/blob/main/CNN93.ipynb\" target=\"_parent\"><img src=\"https://colab.research.google.com/assets/colab-badge.svg\" alt=\"Open In Colab\"/></a>"
      ]
    },
    {
      "cell_type": "code",
      "execution_count": null,
      "metadata": {
        "id": "Z9F_1k46fGAT"
      },
      "outputs": [],
      "source": [
        "import tensorflow as tf"
      ]
    },
    {
      "cell_type": "code",
      "source": [
        "test_dir = '/content/drive/MyDrive/CELLSFINA/TEST'"
      ],
      "metadata": {
        "id": "PaEX5NbuhnYy"
      },
      "execution_count": null,
      "outputs": []
    },
    {
      "cell_type": "code",
      "source": [
        "model = tf.keras.models.load_model('/content/drive/MyDrive/Malaria Predictor.h5')"
      ],
      "metadata": {
        "id": "FvJ_0FpJg7ba"
      },
      "execution_count": null,
      "outputs": []
    },
    {
      "cell_type": "code",
      "source": [
        "import tensorflow\n",
        "import tensorflow.keras\n",
        "from tensorflow.keras.preprocessing.image import ImageDataGenerator\n",
        "image_gen = ImageDataGenerator( height_shift_range=0.1, zoom_range=0.2 ,rotation_range=20,\n",
        "    width_shift_range=0.2,\n",
        "    horizontal_flip=True,\n",
        "    shear_range = 0.1,\n",
        "    fill_mode ='nearest'\n",
        "    \n",
        " )"
      ],
      "metadata": {
        "id": "tcpe_bEwhUNY"
      },
      "execution_count": null,
      "outputs": []
    },
    {
      "cell_type": "code",
      "source": [
        "test_gen = image_gen.flow_from_directory(directory=test_dir ,\n",
        "                                          target_size=(130,130), color_mode='rgb',\n",
        "                                        class_mode='binary', batch_size=16 , shuffle=False  )"
      ],
      "metadata": {
        "colab": {
          "base_uri": "https://localhost:8080/"
        },
        "id": "waCuagYAhlnj",
        "outputId": "3a8fa39c-2b8a-40c2-9e6c-2bdaf68ff4c1"
      },
      "execution_count": null,
      "outputs": [
        {
          "output_type": "stream",
          "name": "stdout",
          "text": [
            "Found 2000 images belonging to 2 classes.\n"
          ]
        }
      ]
    },
    {
      "cell_type": "code",
      "source": [
        "models = model.evaluate(test_gen)"
      ],
      "metadata": {
        "colab": {
          "base_uri": "https://localhost:8080/"
        },
        "id": "6OuZtCtSjxuy",
        "outputId": "2ce38a04-fbe3-4133-c1d3-d979ffd032e5"
      },
      "execution_count": null,
      "outputs": [
        {
          "output_type": "stream",
          "name": "stdout",
          "text": [
            "125/125 [==============================] - 30s 238ms/step - loss: 0.1826 - accuracy: 0.9385\n"
          ]
        }
      ]
    },
    {
      "cell_type": "code",
      "source": [
        "predict = model.predict(test_gen)"
      ],
      "metadata": {
        "colab": {
          "base_uri": "https://localhost:8080/"
        },
        "id": "LAuJV4-ehUk5",
        "outputId": "04ec22f1-d5b6-42bf-ff3d-cd1a4d909870"
      },
      "execution_count": null,
      "outputs": [
        {
          "output_type": "stream",
          "name": "stdout",
          "text": [
            "125/125 [==============================] - 88s 704ms/step\n"
          ]
        }
      ]
    },
    {
      "cell_type": "code",
      "source": [
        "predict"
      ],
      "metadata": {
        "colab": {
          "base_uri": "https://localhost:8080/"
        },
        "id": "7ZH_CR2lhxSN",
        "outputId": "fedb4343-39b3-4ade-fecb-a3aa87b6070e"
      },
      "execution_count": null,
      "outputs": [
        {
          "output_type": "execute_result",
          "data": {
            "text/plain": [
              "array([[1.1941998e-02],\n",
              "       [4.7730659e-03],\n",
              "       [1.2865345e-04],\n",
              "       ...,\n",
              "       [9.1783583e-01],\n",
              "       [9.6181661e-01],\n",
              "       [9.5032972e-01]], dtype=float32)"
            ]
          },
          "metadata": {},
          "execution_count": 13
        }
      ]
    },
    {
      "cell_type": "code",
      "source": [
        "predict = predict>0.80\n",
        "predict"
      ],
      "metadata": {
        "colab": {
          "base_uri": "https://localhost:8080/"
        },
        "id": "9AeCnk4Jhxmu",
        "outputId": "10b8d502-94ef-4b7c-e8b4-7f5a433bdc88"
      },
      "execution_count": null,
      "outputs": [
        {
          "output_type": "execute_result",
          "data": {
            "text/plain": [
              "array([[False],\n",
              "       [False],\n",
              "       [False],\n",
              "       ...,\n",
              "       [ True],\n",
              "       [ True],\n",
              "       [ True]])"
            ]
          },
          "metadata": {},
          "execution_count": 14
        }
      ]
    },
    {
      "cell_type": "code",
      "source": [
        "test_gen.class_indices"
      ],
      "metadata": {
        "colab": {
          "base_uri": "https://localhost:8080/"
        },
        "id": "v3lAvssRjoYi",
        "outputId": "7cbc550a-ef1f-4986-ea34-e175111cc07f"
      },
      "execution_count": null,
      "outputs": [
        {
          "output_type": "execute_result",
          "data": {
            "text/plain": [
              "{'Parasitized': 0, 'Uninfected': 1}"
            ]
          },
          "metadata": {},
          "execution_count": 15
        }
      ]
    },
    {
      "cell_type": "code",
      "source": [
        "y_test = test_gen.labels\n",
        "y_test"
      ],
      "metadata": {
        "colab": {
          "base_uri": "https://localhost:8080/"
        },
        "id": "YqqwQBXHjolg",
        "outputId": "ae0dfc35-5a33-4fc5-fc24-4d84fb31b186"
      },
      "execution_count": null,
      "outputs": [
        {
          "output_type": "execute_result",
          "data": {
            "text/plain": [
              "array([0, 0, 0, ..., 1, 1, 1], dtype=int32)"
            ]
          },
          "metadata": {},
          "execution_count": 16
        }
      ]
    },
    {
      "cell_type": "code",
      "source": [
        "from sklearn.metrics import confusion_matrix , classification_report"
      ],
      "metadata": {
        "id": "BndIMcirju_Q"
      },
      "execution_count": null,
      "outputs": []
    },
    {
      "cell_type": "code",
      "source": [
        "print(confusion_matrix(y_test, predict))"
      ],
      "metadata": {
        "colab": {
          "base_uri": "https://localhost:8080/"
        },
        "id": "Z88i1ldAjqWS",
        "outputId": "1f319230-461a-4d1d-8ee5-17ebd5a17d2e"
      },
      "execution_count": null,
      "outputs": [
        {
          "output_type": "stream",
          "name": "stdout",
          "text": [
            "[[953  47]\n",
            " [ 69 931]]\n"
          ]
        }
      ]
    },
    {
      "cell_type": "code",
      "source": [],
      "metadata": {
        "id": "n5wTisotjr9F"
      },
      "execution_count": null,
      "outputs": []
    }
  ]
}